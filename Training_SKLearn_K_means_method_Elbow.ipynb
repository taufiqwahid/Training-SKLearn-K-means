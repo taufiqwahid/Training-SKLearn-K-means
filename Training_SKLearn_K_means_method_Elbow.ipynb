{
  "nbformat": 4,
  "nbformat_minor": 0,
  "metadata": {
    "colab": {
      "name": "Training SKLearn K-means method Elbow",
      "provenance": [],
      "collapsed_sections": [],
      "mount_file_id": "1P_yIUknZ4PJc2smnTcVAVogN8Eu1ETD5",
      "authorship_tag": "ABX9TyMoLv4fHqK/sNyrv5zU/gGw",
      "include_colab_link": true
    },
    "kernelspec": {
      "name": "python3",
      "display_name": "Python 3"
    }
  },
  "cells": [
    {
      "cell_type": "markdown",
      "metadata": {
        "id": "view-in-github",
        "colab_type": "text"
      },
      "source": [
        "<a href=\"https://colab.research.google.com/github/taufiqwahid/Training-SKLearn-K-means/blob/master/Training_SKLearn_K_means_method_Elbow.ipynb\" target=\"_parent\"><img src=\"https://colab.research.google.com/assets/colab-badge.svg\" alt=\"Open In Colab\"/></a>"
      ]
    },
    {
      "cell_type": "code",
      "metadata": {
        "id": "vQAkQ36HPpjz",
        "colab_type": "code",
        "outputId": "226254ab-db76-46cc-a7ff-b5d1c24a71a0",
        "colab": {
          "base_uri": "https://localhost:8080/",
          "height": 198
        }
      },
      "source": [
        "# Latihan SKLearn K-means method Elbow\n",
        "\n",
        "import pandas as pd #mengimpor pandas untuk memanipulasi data\n",
        "import matplotlib.pyplot as plt #menggunakan matplotlib untuk visualisasi data\n",
        "%matplotlib inline \n",
        "import seaborn as sns #digunakan untuk visualisasi agar tampak menarik untuk menampilkan label ataupun atribut yg diinginkan\n",
        "\n",
        "#ubah file csv menjadi dataframe\n",
        "df = pd.read_csv('/content/drive/My Drive/Colab Notebooks/DATANYA/Latihan SKLearn K-means/Mall_Customers.csv')\n",
        "\n",
        "# tammpilkan 3 baris pertama\n",
        "df.head(3)\n"
      ],
      "execution_count": 1,
      "outputs": [
        {
          "output_type": "stream",
          "text": [
            "/usr/local/lib/python3.6/dist-packages/statsmodels/tools/_testing.py:19: FutureWarning: pandas.util.testing is deprecated. Use the functions in the public API at pandas.testing instead.\n",
            "  import pandas.util.testing as tm\n"
          ],
          "name": "stderr"
        },
        {
          "output_type": "execute_result",
          "data": {
            "text/html": [
              "<div>\n",
              "<style scoped>\n",
              "    .dataframe tbody tr th:only-of-type {\n",
              "        vertical-align: middle;\n",
              "    }\n",
              "\n",
              "    .dataframe tbody tr th {\n",
              "        vertical-align: top;\n",
              "    }\n",
              "\n",
              "    .dataframe thead th {\n",
              "        text-align: right;\n",
              "    }\n",
              "</style>\n",
              "<table border=\"1\" class=\"dataframe\">\n",
              "  <thead>\n",
              "    <tr style=\"text-align: right;\">\n",
              "      <th></th>\n",
              "      <th>CustomerID</th>\n",
              "      <th>Gender</th>\n",
              "      <th>Age</th>\n",
              "      <th>Annual Income (k$)</th>\n",
              "      <th>Spending Score (1-100)</th>\n",
              "    </tr>\n",
              "  </thead>\n",
              "  <tbody>\n",
              "    <tr>\n",
              "      <th>0</th>\n",
              "      <td>1</td>\n",
              "      <td>Male</td>\n",
              "      <td>19</td>\n",
              "      <td>15</td>\n",
              "      <td>39</td>\n",
              "    </tr>\n",
              "    <tr>\n",
              "      <th>1</th>\n",
              "      <td>2</td>\n",
              "      <td>Male</td>\n",
              "      <td>21</td>\n",
              "      <td>15</td>\n",
              "      <td>81</td>\n",
              "    </tr>\n",
              "    <tr>\n",
              "      <th>2</th>\n",
              "      <td>3</td>\n",
              "      <td>Female</td>\n",
              "      <td>20</td>\n",
              "      <td>16</td>\n",
              "      <td>6</td>\n",
              "    </tr>\n",
              "  </tbody>\n",
              "</table>\n",
              "</div>"
            ],
            "text/plain": [
              "   CustomerID  Gender  Age  Annual Income (k$)  Spending Score (1-100)\n",
              "0           1    Male   19                  15                      39\n",
              "1           2    Male   21                  15                      81\n",
              "2           3  Female   20                  16                       6"
            ]
          },
          "metadata": {
            "tags": []
          },
          "execution_count": 1
        }
      ]
    },
    {
      "cell_type": "code",
      "metadata": {
        "id": "UWoCx1DPXJKV",
        "colab_type": "code",
        "outputId": "0ecab3d9-9308-4b00-a4db-0f5884c28bc1",
        "colab": {
          "base_uri": "https://localhost:8080/",
          "height": 143
        }
      },
      "source": [
        "# ubah namma kolom\n",
        "df = df.rename(columns={'Gender': 'gender', 'Age': 'age','Annual Income (k$)': 'annual_income','Spending Score (1-100)': 'spending_score'}) #rename kolom \n",
        "\n",
        "# ubah data kategorik mmenjadi data numerik\n",
        "df['gender'].replace(['Female', 'Male'], [0,1], inplace=True)\n",
        "\n",
        "# tampilkan data yang sudah di preprocess\n",
        "df.head(3)\n"
      ],
      "execution_count": 2,
      "outputs": [
        {
          "output_type": "execute_result",
          "data": {
            "text/html": [
              "<div>\n",
              "<style scoped>\n",
              "    .dataframe tbody tr th:only-of-type {\n",
              "        vertical-align: middle;\n",
              "    }\n",
              "\n",
              "    .dataframe tbody tr th {\n",
              "        vertical-align: top;\n",
              "    }\n",
              "\n",
              "    .dataframe thead th {\n",
              "        text-align: right;\n",
              "    }\n",
              "</style>\n",
              "<table border=\"1\" class=\"dataframe\">\n",
              "  <thead>\n",
              "    <tr style=\"text-align: right;\">\n",
              "      <th></th>\n",
              "      <th>CustomerID</th>\n",
              "      <th>gender</th>\n",
              "      <th>age</th>\n",
              "      <th>annual_income</th>\n",
              "      <th>spending_score</th>\n",
              "    </tr>\n",
              "  </thead>\n",
              "  <tbody>\n",
              "    <tr>\n",
              "      <th>0</th>\n",
              "      <td>1</td>\n",
              "      <td>1</td>\n",
              "      <td>19</td>\n",
              "      <td>15</td>\n",
              "      <td>39</td>\n",
              "    </tr>\n",
              "    <tr>\n",
              "      <th>1</th>\n",
              "      <td>2</td>\n",
              "      <td>1</td>\n",
              "      <td>21</td>\n",
              "      <td>15</td>\n",
              "      <td>81</td>\n",
              "    </tr>\n",
              "    <tr>\n",
              "      <th>2</th>\n",
              "      <td>3</td>\n",
              "      <td>0</td>\n",
              "      <td>20</td>\n",
              "      <td>16</td>\n",
              "      <td>6</td>\n",
              "    </tr>\n",
              "  </tbody>\n",
              "</table>\n",
              "</div>"
            ],
            "text/plain": [
              "   CustomerID  gender  age  annual_income  spending_score\n",
              "0           1       1   19             15              39\n",
              "1           2       1   21             15              81\n",
              "2           3       0   20             16               6"
            ]
          },
          "metadata": {
            "tags": []
          },
          "execution_count": 2
        }
      ]
    },
    {
      "cell_type": "code",
      "metadata": {
        "id": "eUnXJpm_bWye",
        "colab_type": "code",
        "outputId": "5457d641-f76d-4e3d-dab2-3a4b88924982",
        "colab": {
          "base_uri": "https://localhost:8080/",
          "height": 191
        }
      },
      "source": [
        "from sklearn.cluster import KMeans\n",
        "#menghilangkan kolom cutomor id dan gender\n",
        "\n",
        "X = df.drop(['CustomerID','gender'],axis=1) #menghilangkan kolom CustomerID dan Gender jika ada\n",
        "\n",
        "#membuat list yang berisi inersia\n",
        "clusters = []   #inisialisasi list\n",
        "for i in range(1,11):    #menggunakan perulangan dimulai dari nilai 1 sampai 11\n",
        "  km = KMeans(n_clusters=i).fit(X)  #mengisi cluster sesuai perulangan pada library KMeans pada data X yg telah dihilangkan kolom apa saja yg tidak digunakan \n",
        "  clusters.append(km.inertia_) #menambahkan intertia \n",
        "  print(km.inertia_)  #menampilkan hasilnya\n",
        "  "
      ],
      "execution_count": 3,
      "outputs": [
        {
          "output_type": "stream",
          "text": [
            "308812.78\n",
            "212840.16982097185\n",
            "143342.751571706\n",
            "104366.15145556198\n",
            "75350.77917248776\n",
            "58300.44332159069\n",
            "51098.58740856844\n",
            "44307.87341670445\n",
            "40916.393036274065\n",
            "37214.0151639612\n"
          ],
          "name": "stdout"
        }
      ]
    },
    {
      "cell_type": "code",
      "metadata": {
        "id": "BrzvRUZBha2V",
        "colab_type": "code",
        "outputId": "3a4542e0-c658-4f88-936f-509d7ef79a67",
        "colab": {
          "base_uri": "https://localhost:8080/",
          "height": 312
        }
      },
      "source": [
        "# membuat plot inertia\n",
        "fig, ax = plt.subplots(figsize=(8, 4)) #membuat tmpilan 8x4\n",
        "sns.lineplot(x=list(range(1,11)), y=clusters, ax=ax) #membuat garis menyesuaikan dengan data clustersnya\n",
        "\n",
        "ax.set_title('Cari Elbow') #judul plot\n",
        "ax.set_xlabel('Clusters') #label horizontal\n",
        "ax.set_ylabel('Inertia')  #label vertical\n"
      ],
      "execution_count": 4,
      "outputs": [
        {
          "output_type": "execute_result",
          "data": {
            "text/plain": [
              "Text(0, 0.5, 'Inertia')"
            ]
          },
          "metadata": {
            "tags": []
          },
          "execution_count": 4
        },
        {
          "output_type": "display_data",
          "data": {
            "image/png": "[encoded data removed]",
            "text/plain": [
              "<Figure size 576x288 with 1 Axes>"
            ]
          },
          "metadata": {
            "tags": [],
            "needs_background": "light"
          }
        }
      ]
    },
    {
      "cell_type": "code",
      "metadata": {
        "id": "lwy1OHYqnGDb",
        "colab_type": "code",
        "outputId": "519dc7a4-e812-4ee1-fbc0-fb291918f3ca",
        "colab": {
          "base_uri": "https://localhost:8080/",
          "height": 296
        }
      },
      "source": [
        "#membuat objek KMeans\n",
        "km5 = KMeans(n_clusters=5).fit(X) #mengisi clusters sebanyak 5\n",
        "\n",
        "#Menambahkan kolom label pada dataset\n",
        "X['labels'] = km5.labels_\n",
        "\n",
        "#membuat plot KMeans dengan 5 klaster\n",
        "plt.figure(figsize=(8,4))\n",
        "sns.scatterplot(X['annual_income'],X['spending_score'],hue=X['labels'],palette=sns.color_palette('hls',5)) #membuat tampilan plot dengan titik titik\n",
        "plt.title('KMeans dengan 5 Cluster') #jduul plot\n",
        "plt.show() #menampilkan plot"
      ],
      "execution_count": 5,
      "outputs": [
        {
          "output_type": "display_data",
          "data": {
            "image/png": "[encoded data removed]",
            "text/plain": [
              "<Figure size 576x288 with 1 Axes>"
            ]
          },
          "metadata": {
            "tags": [],
            "needs_background": "light"
          }
        }
      ]
    }
  ]
}